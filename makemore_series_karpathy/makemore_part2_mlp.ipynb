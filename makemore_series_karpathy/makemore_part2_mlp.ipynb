{
 "cells": [
  {
   "cell_type": "code",
   "execution_count": 1,
   "id": "9b1c929b",
   "metadata": {},
   "outputs": [],
   "source": [
    "import torch\n",
    "import torch.nn.functional as F\n",
    "import matplotlib.pyplot as plt\n",
    "%matplotlib inline"
   ]
  },
  {
   "cell_type": "code",
   "execution_count": 2,
   "id": "a5c7bd56",
   "metadata": {},
   "outputs": [
    {
     "data": {
      "text/plain": [
       "['emma',\n",
       " 'olivia',\n",
       " 'ava',\n",
       " 'isabella',\n",
       " 'sophia',\n",
       " 'charlotte',\n",
       " 'mia',\n",
       " 'amelia',\n",
       " 'harper',\n",
       " 'evelyn']"
      ]
     },
     "execution_count": 2,
     "metadata": {},
     "output_type": "execute_result"
    }
   ],
   "source": [
    "# Read in all the words.\n",
    "words = open('names.txt', 'r').read().splitlines()\n",
    "words[:10]"
   ]
  },
  {
   "cell_type": "code",
   "execution_count": 3,
   "id": "61041ec4",
   "metadata": {},
   "outputs": [
    {
     "data": {
      "text/plain": [
       "32033"
      ]
     },
     "execution_count": 3,
     "metadata": {},
     "output_type": "execute_result"
    }
   ],
   "source": [
    "len(words)"
   ]
  },
  {
   "cell_type": "code",
   "execution_count": 4,
   "id": "fc080b87",
   "metadata": {},
   "outputs": [
    {
     "name": "stdout",
     "output_type": "stream",
     "text": [
      "{1: 'a', 2: 'b', 3: 'c', 4: 'd', 5: 'e', 6: 'f', 7: 'g', 8: 'h', 9: 'i', 10: 'j', 11: 'k', 12: 'l', 13: 'm', 14: 'n', 15: 'o', 16: 'p', 17: 'q', 18: 'r', 19: 's', 20: 't', 21: 'u', 22: 'v', 23: 'w', 24: 'x', 25: 'y', 26: 'z', 0: '.'}\n"
     ]
    }
   ],
   "source": [
    "# Build a vocab of characters and mappings to/from integers.\n",
    "chars = sorted(list(set(''.join(words))))\n",
    "stoi = {s:i+1 for i,s in enumerate(chars)}\n",
    "stoi['.'] = 0\n",
    "itos = {i:s for s,i in stoi.items()}\n",
    "print(itos)"
   ]
  },
  {
   "cell_type": "code",
   "execution_count": 5,
   "id": "3d9c6d33",
   "metadata": {},
   "outputs": [
    {
     "name": "stdout",
     "output_type": "stream",
     "text": [
      "emma\n",
      "... ---> e\n",
      "..e ---> m\n",
      ".em ---> m\n",
      "emm ---> a\n",
      "mma ---> .\n",
      "olivia\n",
      "... ---> o\n",
      "..o ---> l\n",
      ".ol ---> i\n",
      "oli ---> v\n",
      "liv ---> i\n",
      "ivi ---> a\n",
      "via ---> .\n",
      "ava\n",
      "... ---> a\n",
      "..a ---> v\n",
      ".av ---> a\n",
      "ava ---> .\n",
      "isabella\n",
      "... ---> i\n",
      "..i ---> s\n",
      ".is ---> a\n",
      "isa ---> b\n",
      "sab ---> e\n",
      "abe ---> l\n",
      "bel ---> l\n",
      "ell ---> a\n",
      "lla ---> .\n",
      "sophia\n",
      "... ---> s\n",
      "..s ---> o\n",
      ".so ---> p\n",
      "sop ---> h\n",
      "oph ---> i\n",
      "phi ---> a\n",
      "hia ---> .\n"
     ]
    }
   ],
   "source": [
    "# Build the dataset.\n",
    "\n",
    "# We can update the block_size to get more context.\n",
    "block_size = 3            # Context length: how many characters do we take to predict the next one?\n",
    "X, Y = [], []\n",
    "for w in words[:5]:\n",
    "    print(w)\n",
    "    context = [0] * block_size\n",
    "    for ch in w + '.':\n",
    "        ix = stoi[ch]\n",
    "        X.append(context)\n",
    "        Y.append(ix)\n",
    "        print(''.join(itos[i] for i in context), '--->', itos[ix])\n",
    "        context = context[1:] + [ix]    # Crop and append.\n",
    "X = torch.tensor(X)\n",
    "Y = torch.tensor(Y)"
   ]
  },
  {
   "cell_type": "code",
   "execution_count": 7,
   "id": "39bfaad9",
   "metadata": {},
   "outputs": [
    {
     "data": {
      "text/plain": [
       "(torch.Size([32, 3]), torch.int64, torch.Size([32]), torch.int64)"
      ]
     },
     "execution_count": 7,
     "metadata": {},
     "output_type": "execute_result"
    }
   ],
   "source": [
    "X.shape, X.dtype, Y.shape, Y.dtype"
   ]
  },
  {
   "cell_type": "code",
   "execution_count": 8,
   "id": "885390c9",
   "metadata": {},
   "outputs": [],
   "source": [
    "# We will embed the 27 chars in a 2-dimensional space.\n",
    "C = torch.randn((27, 2))"
   ]
  },
  {
   "cell_type": "code",
   "execution_count": 9,
   "id": "15f88992",
   "metadata": {},
   "outputs": [
    {
     "data": {
      "text/plain": [
       "tensor([[-0.5317, -0.8100],\n",
       "        [ 0.0686, -0.4340],\n",
       "        [ 0.6754, -0.1459],\n",
       "        [ 0.4900, -2.1244],\n",
       "        [ 0.3606,  0.8209],\n",
       "        [-1.4012, -0.4754],\n",
       "        [ 0.1316,  0.4431],\n",
       "        [-0.2416, -0.1228],\n",
       "        [ 0.7791,  1.1401],\n",
       "        [-0.1821,  0.0800],\n",
       "        [ 1.2458,  0.1638],\n",
       "        [-0.1977,  0.1500],\n",
       "        [ 0.6284,  0.9660],\n",
       "        [ 0.3503, -1.3784],\n",
       "        [-0.4973,  0.2641],\n",
       "        [ 0.1854, -0.9773],\n",
       "        [ 0.0410,  0.7770],\n",
       "        [ 0.2522, -0.6684],\n",
       "        [ 0.7541, -0.3799],\n",
       "        [-1.3384,  1.1626],\n",
       "        [ 0.9145,  0.3126],\n",
       "        [ 0.4282,  1.1034],\n",
       "        [-0.2724,  0.1731],\n",
       "        [ 0.5598,  0.2846],\n",
       "        [-0.1600, -0.8552],\n",
       "        [ 0.4487,  0.2387],\n",
       "        [-0.4292, -2.3721]])"
      ]
     },
     "execution_count": 9,
     "metadata": {},
     "output_type": "execute_result"
    }
   ],
   "source": [
    "C"
   ]
  },
  {
   "cell_type": "code",
   "execution_count": 10,
   "id": "f7af3da3",
   "metadata": {},
   "outputs": [
    {
     "data": {
      "text/plain": [
       "tensor([-1.4012, -0.4754])"
      ]
     },
     "execution_count": 10,
     "metadata": {},
     "output_type": "execute_result"
    }
   ],
   "source": [
    "# Let's take the emb for the ix=5.\n",
    "# One way to get it is just pluck the row.\n",
    "C[5]"
   ]
  },
  {
   "cell_type": "code",
   "execution_count": 11,
   "id": "d3348700",
   "metadata": {},
   "outputs": [
    {
     "data": {
      "text/plain": [
       "tensor([-1.4012, -0.4754])"
      ]
     },
     "execution_count": 11,
     "metadata": {},
     "output_type": "execute_result"
    }
   ],
   "source": [
    "# Another way to do it is by having a one-hot encoding then multiply it with the emb matrix\n",
    "# (think of it like a weight matrix).\n",
    "F.one_hot(torch.tensor(5), num_classes=27).float() @ C\n",
    "\n",
    "# We will get the same thing as above because of matrix multiplication works.\n",
    "# But for this lecture we will just use the way it is done in the cell above."
   ]
  },
  {
   "cell_type": "code",
   "execution_count": 12,
   "id": "0adcdb97",
   "metadata": {},
   "outputs": [
    {
     "data": {
      "text/plain": [
       "tensor([[-1.4012, -0.4754],\n",
       "        [ 0.1316,  0.4431],\n",
       "        [-0.2416, -0.1228]])"
      ]
     },
     "execution_count": 12,
     "metadata": {},
     "output_type": "execute_result"
    }
   ],
   "source": [
    "# In pytorch we can index lists. Infact it can be tensors.\n",
    "C[torch.tensor([5, 6, 7])]"
   ]
  },
  {
   "cell_type": "code",
   "execution_count": 13,
   "id": "bfc3559c",
   "metadata": {},
   "outputs": [
    {
     "data": {
      "text/plain": [
       "torch.Size([32, 3, 2])"
      ]
     },
     "execution_count": 13,
     "metadata": {},
     "output_type": "execute_result"
    }
   ],
   "source": [
    "# It also works with 2D tensors. So we can directly plug in tensor X and get the embeddings for the chars.\n",
    "C[X].shape"
   ]
  },
  {
   "cell_type": "code",
   "execution_count": 15,
   "id": "6b0fcb04",
   "metadata": {},
   "outputs": [
    {
     "data": {
      "text/plain": [
       "tensor(1)"
      ]
     },
     "execution_count": 15,
     "metadata": {},
     "output_type": "execute_result"
    }
   ],
   "source": [
    "X[13, 2]"
   ]
  },
  {
   "cell_type": "code",
   "execution_count": 16,
   "id": "1357cf85",
   "metadata": {},
   "outputs": [
    {
     "data": {
      "text/plain": [
       "tensor([ 0.0686, -0.4340])"
      ]
     },
     "execution_count": 16,
     "metadata": {},
     "output_type": "execute_result"
    }
   ],
   "source": [
    "C[X][13, 2]"
   ]
  },
  {
   "cell_type": "code",
   "execution_count": 17,
   "id": "02d30d3d",
   "metadata": {},
   "outputs": [
    {
     "data": {
      "text/plain": [
       "tensor([ 0.0686, -0.4340])"
      ]
     },
     "execution_count": 17,
     "metadata": {},
     "output_type": "execute_result"
    }
   ],
   "source": [
    "# As can be seen, it plucks out the emb for 1.\n",
    "C[1]"
   ]
  },
  {
   "cell_type": "code",
   "execution_count": 18,
   "id": "35503830",
   "metadata": {},
   "outputs": [
    {
     "data": {
      "text/plain": [
       "torch.Size([32, 3, 2])"
      ]
     },
     "execution_count": 18,
     "metadata": {},
     "output_type": "execute_result"
    }
   ],
   "source": [
    "emb = C[X]\n",
    "emb.shape"
   ]
  },
  {
   "cell_type": "code",
   "execution_count": 19,
   "id": "5183426c",
   "metadata": {},
   "outputs": [],
   "source": [
    "# Initialize the weights and biases of the neurons (MLP).\n",
    "# We are working with the figure 1 on page 6 of this paper:\n",
    "# https://www.jmlr.org/papers/volume3/bengio03a/bengio03a.pdf\n",
    "# \"A Neural Probabilistic Language Model\"\n",
    "# This is also available in the \"relevant_papers\" folder on the repo.\n",
    "\n",
    "# 6 input dim because 3*2=6 -- from the shape above. These are the input values to the neurons.\n",
    "# 100 are the output dims -- hyperparameter.\n",
    "W1 = torch.randn((6, 100))\n",
    "b1 = torch.randn(100)"
   ]
  },
  {
   "cell_type": "code",
   "execution_count": 21,
   "id": "a2694aaa",
   "metadata": {},
   "outputs": [
    {
     "data": {
      "text/plain": [
       "3"
      ]
     },
     "execution_count": 21,
     "metadata": {},
     "output_type": "execute_result"
    }
   ],
   "source": [
    "# This function gives us a list of all the tensors along a dim.\n",
    "len(torch.unbind(emb, 1))     # --> We have a context_len of 3. This changes with block_size."
   ]
  },
  {
   "cell_type": "code",
   "execution_count": 23,
   "id": "31399959",
   "metadata": {},
   "outputs": [
    {
     "data": {
      "text/plain": [
       "torch.Size([32, 6])"
      ]
     },
     "execution_count": 23,
     "metadata": {},
     "output_type": "execute_result"
    }
   ],
   "source": [
    "torch.cat(torch.unbind(emb, 1), dim=1).shape"
   ]
  },
  {
   "cell_type": "code",
   "execution_count": 25,
   "id": "01c733c0",
   "metadata": {},
   "outputs": [
    {
     "data": {
      "text/plain": [
       "tensor([ 0,  1,  2,  3,  4,  5,  6,  7,  8,  9, 10, 11, 12, 13, 14, 15, 16, 17])"
      ]
     },
     "execution_count": 25,
     "metadata": {},
     "output_type": "execute_result"
    }
   ],
   "source": [
    "# There is however a significantly better way to do this...\n",
    "# Let's see it with a toy example -- learning `view` in pytorch.\n",
    "a = torch.arange(18)\n",
    "a"
   ]
  },
  {
   "cell_type": "code",
   "execution_count": 26,
   "id": "b27f56f0",
   "metadata": {},
   "outputs": [
    {
     "data": {
      "text/plain": [
       "torch.Size([18])"
      ]
     },
     "execution_count": 26,
     "metadata": {},
     "output_type": "execute_result"
    }
   ],
   "source": [
    "a.shape"
   ]
  },
  {
   "cell_type": "code",
   "execution_count": 36,
   "id": "9f8e5bdc",
   "metadata": {},
   "outputs": [],
   "source": [
    "# It can just help to reshape the tensor as we want.\n",
    "b = a.view(3, 3, 2)"
   ]
  },
  {
   "cell_type": "code",
   "execution_count": 37,
   "id": "42e2bb56",
   "metadata": {},
   "outputs": [
    {
     "data": {
      "text/plain": [
       "torch.Size([3, 3, 2])"
      ]
     },
     "execution_count": 37,
     "metadata": {},
     "output_type": "execute_result"
    }
   ],
   "source": [
    "b.shape"
   ]
  },
  {
   "cell_type": "code",
   "execution_count": 38,
   "id": "78799e8a",
   "metadata": {},
   "outputs": [
    {
     "data": {
      "text/plain": [
       "tensor([[-0.5317, -0.8100, -0.5317, -0.8100, -0.5317, -0.8100],\n",
       "        [-0.5317, -0.8100, -0.5317, -0.8100, -1.4012, -0.4754],\n",
       "        [-0.5317, -0.8100, -1.4012, -0.4754,  0.3503, -1.3784],\n",
       "        [-1.4012, -0.4754,  0.3503, -1.3784,  0.3503, -1.3784],\n",
       "        [ 0.3503, -1.3784,  0.3503, -1.3784,  0.0686, -0.4340],\n",
       "        [-0.5317, -0.8100, -0.5317, -0.8100, -0.5317, -0.8100],\n",
       "        [-0.5317, -0.8100, -0.5317, -0.8100,  0.1854, -0.9773],\n",
       "        [-0.5317, -0.8100,  0.1854, -0.9773,  0.6284,  0.9660],\n",
       "        [ 0.1854, -0.9773,  0.6284,  0.9660, -0.1821,  0.0800],\n",
       "        [ 0.6284,  0.9660, -0.1821,  0.0800, -0.2724,  0.1731],\n",
       "        [-0.1821,  0.0800, -0.2724,  0.1731, -0.1821,  0.0800],\n",
       "        [-0.2724,  0.1731, -0.1821,  0.0800,  0.0686, -0.4340],\n",
       "        [-0.5317, -0.8100, -0.5317, -0.8100, -0.5317, -0.8100],\n",
       "        [-0.5317, -0.8100, -0.5317, -0.8100,  0.0686, -0.4340],\n",
       "        [-0.5317, -0.8100,  0.0686, -0.4340, -0.2724,  0.1731],\n",
       "        [ 0.0686, -0.4340, -0.2724,  0.1731,  0.0686, -0.4340],\n",
       "        [-0.5317, -0.8100, -0.5317, -0.8100, -0.5317, -0.8100],\n",
       "        [-0.5317, -0.8100, -0.5317, -0.8100, -0.1821,  0.0800],\n",
       "        [-0.5317, -0.8100, -0.1821,  0.0800, -1.3384,  1.1626],\n",
       "        [-0.1821,  0.0800, -1.3384,  1.1626,  0.0686, -0.4340],\n",
       "        [-1.3384,  1.1626,  0.0686, -0.4340,  0.6754, -0.1459],\n",
       "        [ 0.0686, -0.4340,  0.6754, -0.1459, -1.4012, -0.4754],\n",
       "        [ 0.6754, -0.1459, -1.4012, -0.4754,  0.6284,  0.9660],\n",
       "        [-1.4012, -0.4754,  0.6284,  0.9660,  0.6284,  0.9660],\n",
       "        [ 0.6284,  0.9660,  0.6284,  0.9660,  0.0686, -0.4340],\n",
       "        [-0.5317, -0.8100, -0.5317, -0.8100, -0.5317, -0.8100],\n",
       "        [-0.5317, -0.8100, -0.5317, -0.8100, -1.3384,  1.1626],\n",
       "        [-0.5317, -0.8100, -1.3384,  1.1626,  0.1854, -0.9773],\n",
       "        [-1.3384,  1.1626,  0.1854, -0.9773,  0.0410,  0.7770],\n",
       "        [ 0.1854, -0.9773,  0.0410,  0.7770,  0.7791,  1.1401],\n",
       "        [ 0.0410,  0.7770,  0.7791,  1.1401, -0.1821,  0.0800],\n",
       "        [ 0.7791,  1.1401, -0.1821,  0.0800,  0.0686, -0.4340]])"
      ]
     },
     "execution_count": 38,
     "metadata": {},
     "output_type": "execute_result"
    }
   ],
   "source": [
    "# Now applying the view on the emb.\n",
    "emb.view(32, 6)"
   ]
  },
  {
   "cell_type": "code",
   "execution_count": 46,
   "id": "f5f27f84",
   "metadata": {},
   "outputs": [],
   "source": [
    "# We can do the computation for the hidden layer.\n",
    "h = torch.tanh(emb.view(-1, 6) @ W1 + b1)     # -1 makes pytorch infer that dimension given the other dimension."
   ]
  },
  {
   "cell_type": "code",
   "execution_count": 48,
   "id": "6c9c221f",
   "metadata": {},
   "outputs": [
    {
     "data": {
      "text/plain": [
       "tensor([[ 0.9999, -0.9938,  0.8547,  ..., -0.8765, -0.9007, -0.6529],\n",
       "        [ 0.9996, -0.9852,  0.8054,  ...,  0.3414, -0.4571, -0.9464],\n",
       "        [ 1.0000, -0.9967,  0.9458,  ..., -0.9964, -0.9989,  0.3555],\n",
       "        ...,\n",
       "        [-0.9621,  0.8756, -0.9909,  ..., -0.2411,  0.9890,  0.9849],\n",
       "        [ 0.3789,  0.9185,  0.2037,  ...,  0.9921,  0.9885,  0.9092],\n",
       "        [ 0.9514, -0.3889,  0.9030,  ...,  0.8777, -0.7336,  0.9897]])"
      ]
     },
     "execution_count": 48,
     "metadata": {},
     "output_type": "execute_result"
    }
   ],
   "source": [
    "# Numbers are all between -1 and +1 due to the tanh.\n",
    "h"
   ]
  },
  {
   "cell_type": "code",
   "execution_count": 47,
   "id": "395d791e",
   "metadata": {},
   "outputs": [
    {
     "data": {
      "text/plain": [
       "torch.Size([32, 100])"
      ]
     },
     "execution_count": 47,
     "metadata": {},
     "output_type": "execute_result"
    }
   ],
   "source": [
    "h.shape"
   ]
  },
  {
   "cell_type": "code",
   "execution_count": 49,
   "id": "981e0e9b",
   "metadata": {},
   "outputs": [],
   "source": [
    "# Create the softmax layer. There are 27 output chars.\n",
    "W2 = torch.randn((100, 27))\n",
    "b2 = torch.randn(27)"
   ]
  },
  {
   "cell_type": "code",
   "execution_count": 50,
   "id": "8bdc2e9d",
   "metadata": {},
   "outputs": [],
   "source": [
    "logits = h @ W2 + b2"
   ]
  },
  {
   "cell_type": "code",
   "execution_count": 51,
   "id": "c25f2074",
   "metadata": {},
   "outputs": [
    {
     "data": {
      "text/plain": [
       "torch.Size([32, 27])"
      ]
     },
     "execution_count": 51,
     "metadata": {},
     "output_type": "execute_result"
    }
   ],
   "source": [
    "logits.shape"
   ]
  },
  {
   "cell_type": "code",
   "execution_count": 58,
   "id": "bb1ceda9",
   "metadata": {},
   "outputs": [],
   "source": [
    "counts = logits.exp()\n",
    "prob = counts / counts.sum(1, keepdims = True)"
   ]
  },
  {
   "cell_type": "code",
   "execution_count": 59,
   "id": "bc16879d",
   "metadata": {},
   "outputs": [
    {
     "data": {
      "text/plain": [
       "torch.Size([32, 27])"
      ]
     },
     "execution_count": 59,
     "metadata": {},
     "output_type": "execute_result"
    }
   ],
   "source": [
    "prob.shape"
   ]
  },
  {
   "cell_type": "code",
   "execution_count": 60,
   "id": "e6500125",
   "metadata": {},
   "outputs": [
    {
     "data": {
      "text/plain": [
       "tensor(1.0000)"
      ]
     },
     "execution_count": 60,
     "metadata": {},
     "output_type": "execute_result"
    }
   ],
   "source": [
    "# Each row will sum 1.\n",
    "prob[0].sum()"
   ]
  },
  {
   "cell_type": "code",
   "execution_count": 61,
   "id": "dae03802",
   "metadata": {},
   "outputs": [
    {
     "data": {
      "text/plain": [
       "tensor([6.6672e-13, 2.5447e-07, 3.0782e-01, 1.6771e-12, 1.5385e-09, 8.3130e-07,\n",
       "        1.3691e-02, 1.3655e-11, 3.8660e-09, 2.6718e-08, 2.3409e-09, 9.7448e-12,\n",
       "        2.5197e-15, 2.7106e-08, 2.3674e-11, 8.1370e-12, 1.7140e-08, 3.7008e-13,\n",
       "        6.3204e-04, 1.4228e-09, 6.3568e-07, 1.0343e-03, 2.7549e-11, 1.0137e-03,\n",
       "        3.6177e-13, 7.5531e-11, 2.6803e-07, 1.9524e-11, 5.9927e-11, 1.7716e-08,\n",
       "        6.3148e-04, 1.5564e-12])"
      ]
     },
     "execution_count": 61,
     "metadata": {},
     "output_type": "execute_result"
    }
   ],
   "source": [
    "# Pluck out the probs assigned by the model to the correct label given by Y.\n",
    "prob[torch.arange(32), Y]"
   ]
  },
  {
   "cell_type": "code",
   "execution_count": 62,
   "id": "55f8f8ce",
   "metadata": {},
   "outputs": [],
   "source": [
    "# The NLL\n",
    "loss = -prob[torch.arange(32), Y].log().mean()"
   ]
  },
  {
   "cell_type": "code",
   "execution_count": 63,
   "id": "ad45b2d0",
   "metadata": {},
   "outputs": [
    {
     "data": {
      "text/plain": [
       "tensor(19.1398)"
      ]
     },
     "execution_count": 63,
     "metadata": {},
     "output_type": "execute_result"
    }
   ],
   "source": [
    "loss"
   ]
  },
  {
   "cell_type": "markdown",
   "id": "a3d70a4c",
   "metadata": {},
   "source": [
    "## Cleaning up and re-writing. Also changing the hyper-parameters."
   ]
  },
  {
   "cell_type": "code",
   "execution_count": 70,
   "id": "dbcd661c",
   "metadata": {},
   "outputs": [
    {
     "data": {
      "text/plain": [
       "(torch.Size([228146, 3]), torch.Size([228146]))"
      ]
     },
     "execution_count": 70,
     "metadata": {},
     "output_type": "execute_result"
    }
   ],
   "source": [
    "# Reading the entire dataset.\n",
    "block_size = 3            # Context length: how many characters do we take to predict the next one?\n",
    "X, Y = [], []\n",
    "for w in words:\n",
    "    # print(w)\n",
    "    context = [0] * block_size\n",
    "    for ch in w + '.':\n",
    "        ix = stoi[ch]\n",
    "        X.append(context)\n",
    "        Y.append(ix)\n",
    "        # print(''.join(itos[i] for i in context), '--->', itos[ix])\n",
    "        context = context[1:] + [ix]    # Crop and append.\n",
    "X = torch.tensor(X)\n",
    "Y = torch.tensor(Y)\n",
    "\n",
    "X.shape, Y.shape"
   ]
  },
  {
   "cell_type": "code",
   "execution_count": 81,
   "id": "81f8f084",
   "metadata": {},
   "outputs": [
    {
     "name": "stdout",
     "output_type": "stream",
     "text": [
      "torch.Size([182625, 3]) torch.Size([182625])\n",
      "torch.Size([22655, 3]) torch.Size([22655])\n",
      "torch.Size([22866, 3]) torch.Size([22866])\n"
     ]
    }
   ],
   "source": [
    "# Restructuring the above code to be able to read data and create training, dev and test splits.\n",
    "# build the dataset\n",
    "block_size = 3 # context length: how many characters do we take to predict the next one?\n",
    "\n",
    "def build_dataset(words):  \n",
    "    X, Y = [], []\n",
    "    for w in words:\n",
    "\n",
    "        # print(w)\n",
    "        context = [0] * block_size\n",
    "        for ch in w + '.':\n",
    "            ix = stoi[ch]\n",
    "            X.append(context)\n",
    "            Y.append(ix)\n",
    "            # print(''.join(itos[i] for i in context), '--->', itos[ix])\n",
    "            context = context[1:] + [ix] # crop and append\n",
    "\n",
    "    X = torch.tensor(X)\n",
    "    Y = torch.tensor(Y)\n",
    "    print(X.shape, Y.shape)\n",
    "    return X, Y\n",
    "\n",
    "import random\n",
    "random.seed(42)\n",
    "random.shuffle(words)\n",
    "n1 = int(0.8*len(words))\n",
    "n2 = int(0.9*len(words))\n",
    "\n",
    "Xtr, Ytr = build_dataset(words[:n1])\n",
    "Xdev, Ydev = build_dataset(words[n1:n2])\n",
    "Xte, Yte = build_dataset(words[n2:])"
   ]
  },
  {
   "cell_type": "code",
   "execution_count": 82,
   "id": "9b3bc89c",
   "metadata": {},
   "outputs": [
    {
     "data": {
      "text/plain": [
       "(torch.Size([182625, 3]), torch.Size([182625]))"
      ]
     },
     "execution_count": 82,
     "metadata": {},
     "output_type": "execute_result"
    }
   ],
   "source": [
    "Xtr.shape, Ytr.shape"
   ]
  },
  {
   "cell_type": "code",
   "execution_count": 99,
   "id": "56df0f30",
   "metadata": {},
   "outputs": [],
   "source": [
    "g = torch.Generator().manual_seed(2147483647) # for reproducibility\n",
    "C = torch.randn((27, 10), generator=g)\n",
    "W1 = torch.randn((30, 200), generator=g)\n",
    "b1 = torch.randn(200, generator=g)\n",
    "W2 = torch.randn((200, 27), generator=g)\n",
    "b2 = torch.randn(27, generator=g)\n",
    "parameters = [C, W1, b1, W2, b2]"
   ]
  },
  {
   "cell_type": "code",
   "execution_count": 100,
   "id": "4f21f87c",
   "metadata": {},
   "outputs": [
    {
     "data": {
      "text/plain": [
       "11897"
      ]
     },
     "execution_count": 100,
     "metadata": {},
     "output_type": "execute_result"
    }
   ],
   "source": [
    "sum(p.nelement() for p in parameters) # number of parameters in total"
   ]
  },
  {
   "cell_type": "code",
   "execution_count": 101,
   "id": "55268a1e",
   "metadata": {},
   "outputs": [],
   "source": [
    "for p in parameters:\n",
    "    p.requires_grad = True"
   ]
  },
  {
   "cell_type": "code",
   "execution_count": 102,
   "id": "9dcb5775",
   "metadata": {},
   "outputs": [],
   "source": [
    "lossi = []\n",
    "stepi = []"
   ]
  },
  {
   "cell_type": "code",
   "execution_count": 105,
   "id": "0b0fca7c",
   "metadata": {},
   "outputs": [
    {
     "name": "stdout",
     "output_type": "stream",
     "text": [
      "2.1285746097564697\n"
     ]
    }
   ],
   "source": [
    "for i in range(50000):\n",
    "  \n",
    "    # minibatch construct\n",
    "    ix = torch.randint(0, Xtr.shape[0], (32,))\n",
    "\n",
    "    # forward pass\n",
    "    emb = C[Xtr[ix]] # (32, 3, 10)\n",
    "    h = torch.tanh(emb.view(-1, 30) @ W1 + b1) # (32, 200)\n",
    "    logits = h @ W2 + b2 # (32, 27)\n",
    "    loss = F.cross_entropy(logits, Ytr[ix])\n",
    "\n",
    "    # backward pass\n",
    "    for p in parameters:\n",
    "        p.grad = None\n",
    "    loss.backward()\n",
    "\n",
    "    # update\n",
    "    # In the video we empirically determine that 0.1 is a good LR to use (around 50 mins in the video).\n",
    "    lr = 0.1 if i < 100000 else 0.01\n",
    "    # lr = 0.01 -- Did this when we were running the loop manually multiple times.\n",
    "    for p in parameters:\n",
    "        p.data += -lr * p.grad\n",
    "        \n",
    "    # track stats\n",
    "    stepi.append(i)\n",
    "    lossi.append(loss.item())\n",
    "        \n",
    "print(loss.item())"
   ]
  },
  {
   "cell_type": "code",
   "execution_count": 106,
   "id": "9b1e344f",
   "metadata": {},
   "outputs": [
    {
     "data": {
      "text/plain": [
       "[<matplotlib.lines.Line2D at 0x7f79d8d7e3a0>]"
      ]
     },
     "execution_count": 106,
     "metadata": {},
     "output_type": "execute_result"
    },
    {
     "data": {
      "image/png": "[encoded data removed]",
      "text/plain": [
       "<Figure size 432x288 with 1 Axes>"
      ]
     },
     "metadata": {
      "needs_background": "light"
     },
     "output_type": "display_data"
    }
   ],
   "source": [
    "plt.plot(stepi, lossi)"
   ]
  },
  {
   "cell_type": "code",
   "execution_count": 107,
   "id": "bf7f6304",
   "metadata": {},
   "outputs": [
    {
     "data": {
      "text/plain": [
       "tensor(2.2138, grad_fn=<NllLossBackward0>)"
      ]
     },
     "execution_count": 107,
     "metadata": {},
     "output_type": "execute_result"
    }
   ],
   "source": [
    "# The loss above would be for a mini-batch. But this one is for the entire dataset.\n",
    "emb = C[Xdev] # (32, 3, 2)\n",
    "h = torch.tanh(emb.view(-1, 30) @ W1 + b1) # (32, 100)\n",
    "logits = h @ W2 + b2 # (32, 27)\n",
    "loss = F.cross_entropy(logits, Ydev)\n",
    "loss"
   ]
  },
  {
   "cell_type": "code",
   "execution_count": 108,
   "id": "469c664f",
   "metadata": {},
   "outputs": [
    {
     "name": "stdout",
     "output_type": "stream",
     "text": [
      "mora.\n",
      "kayah.\n",
      "see.\n",
      "mel.\n",
      "ryalayethan.\n",
      "endrlee.\n",
      "aderedieliigh.\n",
      "poren.\n",
      "eden.\n",
      "van.\n",
      "aar.\n",
      "katelvontelin.\n",
      "shdonrgihimies.\n",
      "kindreelynn.\n",
      "nocarmon.\n",
      "zen.\n",
      "dariyah.\n",
      "faeha.\n",
      "kay.\n",
      "mus.\n"
     ]
    }
   ],
   "source": [
    "# sample from the model\n",
    "g = torch.Generator().manual_seed(2147483647 + 10)\n",
    "\n",
    "for _ in range(20):\n",
    "    \n",
    "    out = []\n",
    "    context = [0] * block_size # initialize with all ...\n",
    "    while True:\n",
    "        emb = C[torch.tensor([context])] # (1,block_size,d)\n",
    "        h = torch.tanh(emb.view(1, -1) @ W1 + b1)\n",
    "        logits = h @ W2 + b2\n",
    "        probs = F.softmax(logits, dim=1)\n",
    "        ix = torch.multinomial(probs, num_samples=1, generator=g).item()\n",
    "        context = context[1:] + [ix]\n",
    "        out.append(ix)\n",
    "        if ix == 0:\n",
    "            break\n",
    "    \n",
    "    print(''.join(itos[i] for i in out))"
   ]
  }
 ],
 "metadata": {
  "kernelspec": {
   "display_name": "Python 3 (ipykernel)",
   "language": "python",
   "name": "python3"
  },
  "language_info": {
   "codemirror_mode": {
    "name": "ipython",
    "version": 3
   },
   "file_extension": ".py",
   "mimetype": "text/x-python",
   "name": "python",
   "nbconvert_exporter": "python",
   "pygments_lexer": "ipython3",
   "version": "3.9.7"
  }
 },
 "nbformat": 4,
 "nbformat_minor": 5
}
